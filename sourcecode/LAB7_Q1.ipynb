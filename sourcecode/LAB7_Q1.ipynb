{
  "nbformat": 4,
  "nbformat_minor": 0,
  "metadata": {
    "colab": {
      "name": "LAB7_Q1.ipynb",
      "provenance": [],
      "collapsed_sections": []
    },
    "kernelspec": {
      "name": "python3",
      "display_name": "Python 3"
    }
  },
  "cells": [
    {
      "cell_type": "code",
      "metadata": {
        "id": "N5i_CAt7ODA0"
      },
      "source": [
        "#import the required packages/libraries \r\n",
        "from sklearn.datasets import fetch_20newsgroups\r\n",
        "\r\n",
        "from sklearn.feature_extraction.text import CountVectorizer, TfidfVectorizer\r\n",
        "from sklearn.feature_extraction.text import TfidfTransformer\r\n",
        "from sklearn import metrics\r\n",
        "from sklearn.pipeline import Pipeline\r\n",
        "from sklearn.naive_bayes import MultinomialNB"
      ],
      "execution_count": 2,
      "outputs": []
    },
    {
      "cell_type": "code",
      "metadata": {
        "colab": {
          "base_uri": "https://localhost:8080/"
        },
        "id": "4F598zzJQHH1",
        "outputId": "862ebd3e-2088-4e26-b3e6-b880ec23e276"
      },
      "source": [
        "twenty_train = fetch_20newsgroups(subset='train', shuffle=True) #using the fetch_20newsgroups to get the data "
      ],
      "execution_count": 3,
      "outputs": [
        {
          "output_type": "stream",
          "text": [
            "Downloading 20news dataset. This may take a few minutes.\n",
            "Downloading dataset from https://ndownloader.figshare.com/files/5975967 (14 MB)\n"
          ],
          "name": "stderr"
        }
      ]
    },
    {
      "cell_type": "code",
      "metadata": {
        "id": "_FgJwaiIX1o0"
      },
      "source": [
        "twenty_train = fetch_20newsgroups(subset='train', shuffle=True) #obtaining the data"
      ],
      "execution_count": 4,
      "outputs": []
    },
    {
      "cell_type": "code",
      "metadata": {
        "colab": {
          "base_uri": "https://localhost:8080/"
        },
        "id": "0i1EF94LX9B8",
        "outputId": "179b1fc5-6725-493f-ddb1-ca08b06a8650"
      },
      "source": [
        "tfidf_Vect = TfidfVectorizer() #call the tfidfVectorizer function \r\n",
        "X_train_tfidf = tfidf_Vect.fit_transform(twenty_train.data) #Fitting the data \r\n",
        "\r\n",
        "#building my Multinomial Navies Bayes model \r\n",
        "clf = MultinomialNB()\r\n",
        "clf.fit(X_train_tfidf, twenty_train.target)\r\n",
        "\r\n",
        "twenty_test = fetch_20newsgroups(subset='test', shuffle=True)\r\n",
        "X_test_tfidf = tfidf_Vect.transform(twenty_test.data) # fitting test data\r\n",
        "\r\n",
        "predicted = clf.predict(X_test_tfidf) # target data\r\n",
        "\r\n",
        "score = metrics.accuracy_score(twenty_test.target, predicted) # calcualte the score\r\n",
        "print(\"Accuracy: \", round(score,3)) #display the results "
      ],
      "execution_count": 5,
      "outputs": [
        {
          "output_type": "stream",
          "text": [
            "Accuracy:  0.774\n"
          ],
          "name": "stdout"
        }
      ]
    },
    {
      "cell_type": "markdown",
      "metadata": {
        "id": "Xu00WrfzTTAZ"
      },
      "source": [
        "\r\n",
        "Question 1: Changing the classifier of the soruce code to SVM and comparing the acuracy. Changing the tfidf vectorizer  parameters to use bigram and compare with previous question. Also, changing the stop_words ='english' and comparing the accuracy."
      ]
    },
    {
      "cell_type": "code",
      "metadata": {
        "colab": {
          "base_uri": "https://localhost:8080/"
        },
        "id": "4QI7-wzUU1KF",
        "outputId": "fcac3707-9317-4be7-d30a-21977865e7a9"
      },
      "source": [
        "from sklearn import svm # getting svm package\r\n",
        "tfidf_Vect = TfidfVectorizer()\r\n",
        "X_train_tfidf = tfidf_Vect.fit_transform(twenty_train.data) #fit data \r\n",
        "\r\n",
        "#building my SVM model \r\n",
        "clf_svm = svm.SVC()\r\n",
        "clf.fit(X_train_tfidf, twenty_train.target)\r\n",
        "\r\n",
        "twenty_test = fetch_20newsgroups(subset='test', shuffle=True)\r\n",
        "X_test_tfidf = tfidf_Vect.transform(twenty_test.data)\r\n",
        "\r\n",
        "predicted = clf.predict(X_test_tfidf)\r\n",
        "\r\n",
        "score = metrics.accuracy_score(twenty_test.target,predicted)\r\n",
        "print(\"Accuracy :\", round(score,3))"
      ],
      "execution_count": 6,
      "outputs": [
        {
          "output_type": "stream",
          "text": [
            "Accuracy : 0.774\n"
          ],
          "name": "stdout"
        }
      ]
    },
    {
      "cell_type": "markdown",
      "metadata": {
        "id": "WFpJskXeaKV1"
      },
      "source": [
        "Changing ngram_range=(1,2)"
      ]
    },
    {
      "cell_type": "code",
      "metadata": {
        "colab": {
          "base_uri": "https://localhost:8080/"
        },
        "id": "Gr1sNKD4aRW-",
        "outputId": "97826e51-a3cb-4917-9e7c-40bfcfa91ed9"
      },
      "source": [
        "tfidf_Vect = TfidfVectorizer(ngram_range=(1,2))\r\n",
        "X_train_tfidf = tfidf_Vect.fit_transform(twenty_train.data)\r\n",
        "\r\n",
        "clf_svm = svm.SVC()\r\n",
        "clf.fit(X_train_tfidf, twenty_train.target)\r\n",
        "\r\n",
        "twenty_test = fetch_20newsgroups(subset='test', shuffle=True)\r\n",
        "X_test_tfidf = tfidf_Vect.transform(twenty_test.data)\r\n",
        "\r\n",
        "predicted = clf.predict(X_test_tfidf)\r\n",
        "\r\n",
        "score = metrics.accuracy_score(twenty_test.target,predicted)\r\n",
        "print(\"Accuracy: \", round(score,2))"
      ],
      "execution_count": null,
      "outputs": [
        {
          "output_type": "stream",
          "text": [
            "Accuracy:  0.77\n"
          ],
          "name": "stdout"
        }
      ]
    },
    {
      "cell_type": "markdown",
      "metadata": {
        "id": "1K27UyNfbiwS"
      },
      "source": [
        "stop_word='english'"
      ]
    },
    {
      "cell_type": "code",
      "metadata": {
        "colab": {
          "base_uri": "https://localhost:8080/"
        },
        "id": "uMaavwU3bo2X",
        "outputId": "43bab01a-0a4d-42bc-993c-f76e7e8465df"
      },
      "source": [
        "tfidf_Vect = TfidfVectorizer(ngram_range=(1,2),stop_words='english') #chaning the stop word to 'english'\r\n",
        "X_test_tfidf = tfidf_Vect.fit_transform(twenty_train.data) #fitting the data\r\n",
        "\r\n",
        "clf_svm = svm.SVC() #calling svm \r\n",
        "clf.fit(X_test_tfidf, twenty_train.target)\r\n",
        "\r\n",
        "twenty_test = fetch_20newsgroups(subset='test', shuffle=True)\r\n",
        "X_test_tfidf = tfidf_Vect.transform(twenty_test.data)\r\n",
        "\r\n",
        "predicted = clf.predict(X_test_tfidf)\r\n",
        "\r\n",
        "score = metrics.accuracy_score(twenty_test.target, predicted) #obtaning the score\r\n",
        "print(\"Accuracy: \", round(score,2)) #looking at the score"
      ],
      "execution_count": null,
      "outputs": [
        {
          "output_type": "stream",
          "text": [
            "Accuracy:  0.81\n"
          ],
          "name": "stdout"
        }
      ]
    }
  ]
}